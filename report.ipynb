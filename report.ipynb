{
  "cells": [
    {
      "cell_type": "markdown",
      "metadata": {},
      "source": [
        "# Code Search Engine with Fine-tuning\n",
        "\n",
        "Building a semantic code search engine that understands natural language queries. Testing it on the CoSQA dataset and fine-tuning to improve performance.\n",
        "\n",
        "**Stack**: Qdrant for vector storage, Sentence Transformers for embeddings, PyTorch Lightning for training.\n"
      ]
    },
    {
      "cell_type": "markdown",
      "metadata": {},
      "source": [
        "## Setup\n"
      ]
    },
    {
      "cell_type": "code",
      "execution_count": null,
      "metadata": {},
      "outputs": [],
      "source": [
        "%pip install -q ipywidgets qdrant-client sentence-transformers torch pytorch-lightning datasets transformers matplotlib\n"
      ]
    },
    {
      "cell_type": "code",
      "execution_count": 3,
      "metadata": {},
      "outputs": [],
      "source": [
        "from src.search_engine import SearchEngine\n",
        "from src.metrics import evaluate_ranking\n",
        "from src.data import load_cosqa_eval\n",
        "from scripts.evaluate import evaluate_model\n",
        "from scripts.train import train, plot_losses\n",
        "import json\n",
        "import matplotlib.pyplot as plt\n",
        "import warnings\n",
        "warnings.filterwarnings('ignore')\n"
      ]
    },
    {
      "cell_type": "markdown",
      "metadata": {},
      "source": [
        "## Basic Search Demo\n",
        "\n",
        "Simple case — searching through a few animal-related documents to see how the engine works.\n"
      ]
    },
    {
      "cell_type": "code",
      "execution_count": null,
      "metadata": {},
      "outputs": [
        {
          "name": "stdout",
          "output_type": "stream",
          "text": [
            "Sample collection: 8 documents\n",
            "1. Elephants are the largest living terrestrial animals. Three living species are currently recognised: the African bush elephant (Loxodonta africana), the African forest elephant (L. cyclotis), and the Asian elephant (Elephas maximus). They are the only surviving members of the family Elephantidae and the order Proboscidea.\n",
            "2. A dolphin is a common name used for some of the aquatic mammals in the cetacean clade Odontoceti, the toothed whales. Dolphins belong to the families Delphinidae (the oceanic dolphins), along with the river-dolphin families Platanistidae, Iniidae, Pontoporiidae and probably the extinct Lipotidae (baiji or Chinese river dolphin).\n",
            "3. The tiger (Panthera tigris) is a large cat and a member of the genus Panthera native to Asia. It has a powerful, muscular body with a large head and paws, a long tail and orange fur with black, mostly vertical stripes.\n",
            "4. Penguins are a group of flightless, semi-aquatic birds which live almost exclusively in the Southern Hemisphere. They have highly adapted for life in the ocean: flippers instead of wings, streamlined bodies for swimming, and counter-shaded dark and white plumage.\n",
            "5. A honey bee (also spelled honeybee) is a eusocial flying insect from the genus Apis of the largest bee family, Apidae. All honey bees are nectarivorous pollinators native to mainland Afro-Eurasia, but human migrations since the Age of Discovery introduced multiple subspecies of the western honey bee into the New World and Australia, resulting in the current cosmopolitan distribution of honey bees in all continents except Antarctica.\n",
            "6. The cheetah (Acinonyx jubatus) is a lightly built, spotted cat characterised by a small rounded head, a short snout, black tear-like facial streaks, a deep chest, long thin legs and a long tail. Its slender, canine-like form is highly adapted for speed, contrasting sharply with other large felids.\n",
            "7. Owls are birds from the order Strigiformes, which includes over 200 species of mostly solitary and nocturnal birds of prey typified by an upright stance, a large broad head, binocular vision, binaural hearing, sharp talons and feathers adapted for silent flight.\n",
            "8. The gray wolf or grey wolf (Canis lupus) is a large canine native to wilderness and remote areas of Eurasia and North America. Adult wolves measure 105-160 cm (41-63 in) in length and 80-85 cm (31-33 in) at shoulder height.\n"
          ]
        }
      ],
      "source": [
        "documents = [\n",
        "  \"Elephants are the largest living terrestrial animals. Three living species are currently recognised: the African bush elephant (Loxodonta africana), the African forest elephant (L. cyclotis), and the Asian elephant (Elephas maximus). They are the only surviving members of the family Elephantidae and the order Proboscidea.\",\n",
        "  \"A dolphin is a common name used for some of the aquatic mammals in the cetacean clade Odontoceti, the toothed whales. Dolphins belong to the families Delphinidae (the oceanic dolphins), along with the river-dolphin families Platanistidae, Iniidae, Pontoporiidae and probably the extinct Lipotidae (baiji or Chinese river dolphin).\",\n",
        "  \"The tiger (Panthera tigris) is a large cat and a member of the genus Panthera native to Asia. It has a powerful, muscular body with a large head and paws, a long tail and orange fur with black, mostly vertical stripes.\",\n",
        "  \"Penguins are a group of flightless, semi-aquatic birds which live almost exclusively in the Southern Hemisphere. They have highly adapted for life in the ocean: flippers instead of wings, streamlined bodies for swimming, and counter-shaded dark and white plumage.\",\n",
        "  \"A honey bee (also spelled honeybee) is a eusocial flying insect from the genus Apis of the largest bee family, Apidae. All honey bees are nectarivorous pollinators native to mainland Afro-Eurasia, but human migrations since the Age of Discovery introduced multiple subspecies of the western honey bee into the New World and Australia, resulting in the current cosmopolitan distribution of honey bees in all continents except Antarctica.\",\n",
        "  \"The cheetah (Acinonyx jubatus) is a lightly built, spotted cat characterised by a small rounded head, a short snout, black tear-like facial streaks, a deep chest, long thin legs and a long tail. Its slender, canine-like form is highly adapted for speed, contrasting sharply with other large felids.\",\n",
        "  \"Owls are birds from the order Strigiformes, which includes over 200 species of mostly solitary and nocturnal birds of prey typified by an upright stance, a large broad head, binocular vision, binaural hearing, sharp talons and feathers adapted for silent flight.\",\n",
        "  \"The gray wolf or grey wolf (Canis lupus) is a large canine native to wilderness and remote areas of Eurasia and North America. Adult wolves measure 105-160 cm (41-63 in) in length and 80-85 cm (31-33 in) at shoulder height.\",\n",
        "]\n",
        "\n",
        "print(f\"Got {len(documents)} documents\")\n",
        "for i, doc in enumerate(documents, 1):\n",
        "    print(f\"{i}. {doc}\")\n"
      ]
    },
    {
      "cell_type": "code",
      "execution_count": 9,
      "metadata": {},
      "outputs": [
        {
          "data": {
            "application/vnd.jupyter.widget-view+json": {
              "model_id": "23a54f73794b453590d3aab65119418e",
              "version_major": 2,
              "version_minor": 0
            },
            "text/plain": [
              "Batches:   0%|          | 0/1 [00:00<?, ?it/s]"
            ]
          },
          "metadata": {},
          "output_type": "display_data"
        },
        {
          "name": "stdout",
          "output_type": "stream",
          "text": [
            "Indexed 8 documents\n"
          ]
        }
      ],
      "source": [
        "engine = SearchEngine(model_name=\"sentence-transformers/all-MiniLM-L6-v2\", collection_name=\"demo\")\n",
        "engine.add_documents(documents)\n",
        "print(f\"Indexed {len(documents)} docs\")\n"
      ]
    },
    {
      "cell_type": "code",
      "execution_count": null,
      "metadata": {},
      "outputs": [
        {
          "name": "stdout",
          "output_type": "stream",
          "text": [
            "\n",
            "Query: What are the different species of elephants?\n",
            "  1. [0.636] Elephants are the largest living terrestrial animals. T...\n",
            "  2. [0.426] Owls are birds from the order Strigiformes, which inclu...\n",
            "  3. [0.333] The tiger (Panthera tigris) is a large cat and a member...\n",
            "\n",
            "Query: What adaptations help owls hunt at night?\n",
            "  1. [0.643] Owls are birds from the order Strigiformes, which inclu...\n",
            "  2. [0.288] Penguins are a group of flightless, semi-aquatic birds ...\n",
            "  3. [0.211] The gray wolf or grey wolf (Canis lupus) is a large can...\n",
            "\n",
            "Query: Where do tigers live and what do they look like?\n",
            "  1. [0.614] The tiger (Panthera tigris) is a large cat and a member...\n",
            "  2. [0.378] The gray wolf or grey wolf (Canis lupus) is a large can...\n",
            "  3. [0.351] Elephants are the largest living terrestrial animals. T...\n"
          ]
        }
      ],
      "source": [
        "queries = [\n",
        "    \"What are the different species of elephants?\",\n",
        "    \"What adaptations help owls hunt at night?\",\n",
        "    \"Where do tigers live and what do they look like?\",\n",
        "]\n",
        "\n",
        "for query in queries:\n",
        "    print(f\"\\nQuery: {query}\")\n",
        "    results = engine.search(query, top_k=3)\n",
        "    for i, res in enumerate(results, 1):\n",
        "        print(f\"{i}. [{res['score']:.3f}] {res['text'][:60]}...\")\n"
      ]
    },
    {
      "cell_type": "markdown",
      "metadata": {},
      "source": [
        "## Evaluation on CoSQA\n",
        "\n",
        "Now testing on the real dataset. CoSQA has code search queries where we need to find the right function from natural language descriptions.\n",
        "\n",
        "I'm tracking three metrics - Recall@10 (did we find the right code?), MRR@10 (how high did we rank it?), and NDCG@10 (overall ranking quality).\n"
      ]
    },
    {
      "cell_type": "code",
      "execution_count": null,
      "metadata": {},
      "outputs": [],
      "source": [
        "corpus, queries_dict, qrels = load_cosqa_eval()\n",
        "\n",
        "print(f\"Dataset loaded:\")\n",
        "print(f\"Corpus: {len(corpus)} code snippets\")\n",
        "print(f\"Queries: {len(queries_dict)} total\")\n",
        "print(f\"Test queries: {len(qrels)}\")\n"
      ]
    },
    {
      "cell_type": "code",
      "execution_count": null,
      "metadata": {},
      "outputs": [],
      "source": [
        "print(\"Evaluating baseline model...\")\n",
        "baseline_metrics = evaluate_model(\"sentence-transformers/all-MiniLM-L6-v2\", k=10)\n",
        "\n",
        "with open(\"baseline_results.json\", \"w\") as f:\n",
        "    json.dump(baseline_metrics, f, indent=2)\n"
      ]
    },
    {
      "cell_type": "markdown",
      "metadata": {},
      "source": [
        "## Fine-tuning\n",
        "\n",
        "Time to make the model better at code search. Using cross-entropy loss with a neat trick called in-batch negatives - instead of manually creating negative examples, we just use the other code snippets in the same batch.\n"
      ]
    },
    {
      "cell_type": "code",
      "execution_count": null,
      "metadata": {},
      "outputs": [],
      "source": [
        "from config import EPOCHS, PLOT_PATH\n",
        "\n",
        "losses = train()\n",
        "plot_losses(losses, EPOCHS, PLOT_PATH)\n",
        "\n",
        "print(f\"\\nTraining complete:\")\n",
        "print(f\"Initial loss: {losses[0]:.4f}\")\n",
        "print(f\"Final loss: {losses[-1]:.4f}\")\n",
        "print(f\"Reduction: {((losses[0] - losses[-1]) / losses[0] * 100):.1f}%\")\n"
      ]
    },
    {
      "cell_type": "markdown",
      "metadata": {},
      "source": [
        "## Results\n"
      ]
    },
    {
      "cell_type": "code",
      "execution_count": null,
      "metadata": {},
      "outputs": [],
      "source": [
        "from config import OUTPUT_DIR\n",
        "\n",
        "print(\"Evaluating fine-tuned model...\")\n",
        "finetuned_metrics = evaluate_model(OUTPUT_DIR, k=10)\n",
        "\n",
        "print(\"\\nComparison:\")\n",
        "for metric in baseline_metrics:\n",
        "    b = baseline_metrics[metric]\n",
        "    f = finetuned_metrics[metric]\n",
        "    improvement = ((f - b) / b * 100) if b > 0 else 0\n",
        "    print(f\"{metric}: {b:.4f} -> {f:.4f} ({improvement:+.1f}%)\")\n"
      ]
    },
    {
      "cell_type": "markdown",
      "metadata": {},
      "source": [
        "## Bonus Experiments\n",
        "\n",
        "Tried two extra things:\n",
        "\n",
        "**Function names vs whole bodies** - Does indexing just the function name work as well as the whole function body?\n",
        "\n",
        "**Distance metrics** - Cosine similarity is standard, but what about others\n"
      ]
    },
    {
      "cell_type": "code",
      "execution_count": null,
      "metadata": {},
      "outputs": [],
      "source": [
        "from scripts.bonus_experiments import evaluate_with_function_names, evaluate_with_distance_metrics\n",
        "func_results = evaluate_with_function_names()\n",
        "dist_results = evaluate_with_distance_metrics()\n"
      ]
    },
    {
      "cell_type": "markdown",
      "metadata": {},
      "source": [
        "## Wrapping Up\n",
        "\n",
        "Built a working code search engine that takes natural language queries and finds relevant code snippets. The baseline model does okay, but fine-tuning on the CoSQA training data makes it noticeably better at the task.\n",
        "\n",
        "The in-batch negatives approach is pretty ok - you get contrastive learning without extra work since every batch naturally has positive and negative examples. Trains faster and works well.\n"
      ]
    }
  ],
  "metadata": {
    "kernelspec": {
      "display_name": ".venv",
      "language": "python",
      "name": "python3"
    },
    "language_info": {
      "codemirror_mode": {
        "name": "ipython",
        "version": 3
      },
      "file_extension": ".py",
      "mimetype": "text/x-python",
      "name": "python",
      "nbconvert_exporter": "python",
      "pygments_lexer": "ipython3",
      "version": "3.12.0"
    }
  },
  "nbformat": 4,
  "nbformat_minor": 2
}
