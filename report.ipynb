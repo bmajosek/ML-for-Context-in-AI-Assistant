{
  "cells": [
    {
      "cell_type": "markdown",
      "metadata": {},
      "source": [
        "# ML for Context in AI Assistant\n",
        "\n",
        "Building a semantic code search engine that understands natural language queries. Testing it on the CoSQA dataset and fine-tuning to improve performance.\n",
        "\n",
        "**Stack**: Qdrant for vector storage, Sentence Transformers for embeddings, PyTorch Lightning for training.\n",
        "\n",
        "## Loss Function (Triplet Margin)\n",
        "\n",
        "For fine-tuning, we use triplet margin loss with hard negatives. In practice: for each query, the model brings the right code closer and pushes the hardest other code in the batch further away. This directly encourages good ranking in retrieval tasks (Recall, MRR, NDCG). You can use cross-entropy instead (just flip the config), but triplet margin tends to work better for code search.\n",
        "\n",
        "Loss curves are tracked and plotted for transparency and sanity checks.\n",
        "\n",
        "---\n",
        "\n"
      ]
    },
    {
      "cell_type": "markdown",
      "metadata": {},
      "source": [
        "## Setup\n"
      ]
    },
    {
      "cell_type": "code",
      "execution_count": 1,
      "metadata": {},
      "outputs": [
        {
          "name": "stdout",
          "output_type": "stream",
          "text": [
            "Note: you may need to restart the kernel to use updated packages.\n"
          ]
        },
        {
          "name": "stderr",
          "output_type": "stream",
          "text": [
            "\n",
            "[notice] A new release of pip is available: 23.2.1 -> 25.3\n",
            "[notice] To update, run: python.exe -m pip install --upgrade pip\n"
          ]
        }
      ],
      "source": [
        "%pip install -q ipywidgets qdrant-client sentence-transformers torch pytorch-lightning datasets transformers matplotlib\n"
      ]
    },
    {
      "cell_type": "code",
      "execution_count": 2,
      "metadata": {},
      "outputs": [],
      "source": [
        "from src.search_engine import SearchEngine\n",
        "from src.metrics import evaluate_ranking\n",
        "from src.data import load_cosqa_eval\n",
        "from scripts.evaluate import evaluate_model\n",
        "from scripts.train import train, plot_losses\n",
        "import json\n",
        "import matplotlib.pyplot as plt\n",
        "import warnings\n",
        "warnings.filterwarnings('ignore')\n"
      ]
    },
    {
      "cell_type": "markdown",
      "metadata": {},
      "source": [
        "## Basic Search Demo\n",
        "\n",
        "Simple case — searching through a few animal-related documents to see how the engine works.\n"
      ]
    },
    {
      "cell_type": "code",
      "execution_count": 3,
      "metadata": {},
      "outputs": [
        {
          "name": "stdout",
          "output_type": "stream",
          "text": [
            "Got 8 documents\n",
            "1. Elephants are the largest living terrestrial animals. Three living species are currently recognised: the African bush elephant (Loxodonta africana), the African forest elephant (L. cyclotis), and the Asian elephant (Elephas maximus). They are the only surviving members of the family Elephantidae and the order Proboscidea.\n",
            "2. A dolphin is a common name used for some of the aquatic mammals in the cetacean clade Odontoceti, the toothed whales. Dolphins belong to the families Delphinidae (the oceanic dolphins), along with the river-dolphin families Platanistidae, Iniidae, Pontoporiidae and probably the extinct Lipotidae (baiji or Chinese river dolphin).\n",
            "3. The tiger (Panthera tigris) is a large cat and a member of the genus Panthera native to Asia. It has a powerful, muscular body with a large head and paws, a long tail and orange fur with black, mostly vertical stripes.\n",
            "4. Penguins are a group of flightless, semi-aquatic birds which live almost exclusively in the Southern Hemisphere. They have highly adapted for life in the ocean: flippers instead of wings, streamlined bodies for swimming, and counter-shaded dark and white plumage.\n",
            "5. A honey bee (also spelled honeybee) is a eusocial flying insect from the genus Apis of the largest bee family, Apidae. All honey bees are nectarivorous pollinators native to mainland Afro-Eurasia, but human migrations since the Age of Discovery introduced multiple subspecies of the western honey bee into the New World and Australia, resulting in the current cosmopolitan distribution of honey bees in all continents except Antarctica.\n",
            "6. The cheetah (Acinonyx jubatus) is a lightly built, spotted cat characterised by a small rounded head, a short snout, black tear-like facial streaks, a deep chest, long thin legs and a long tail. Its slender, canine-like form is highly adapted for speed, contrasting sharply with other large felids.\n",
            "7. Owls are birds from the order Strigiformes, which includes over 200 species of mostly solitary and nocturnal birds of prey typified by an upright stance, a large broad head, binocular vision, binaural hearing, sharp talons and feathers adapted for silent flight.\n",
            "8. The gray wolf or grey wolf (Canis lupus) is a large canine native to wilderness and remote areas of Eurasia and North America. Adult wolves measure 105-160 cm (41-63 in) in length and 80-85 cm (31-33 in) at shoulder height.\n"
          ]
        }
      ],
      "source": [
        "documents = [\n",
        "  \"Elephants are the largest living terrestrial animals. Three living species are currently recognised: the African bush elephant (Loxodonta africana), the African forest elephant (L. cyclotis), and the Asian elephant (Elephas maximus). They are the only surviving members of the family Elephantidae and the order Proboscidea.\",\n",
        "  \"A dolphin is a common name used for some of the aquatic mammals in the cetacean clade Odontoceti, the toothed whales. Dolphins belong to the families Delphinidae (the oceanic dolphins), along with the river-dolphin families Platanistidae, Iniidae, Pontoporiidae and probably the extinct Lipotidae (baiji or Chinese river dolphin).\",\n",
        "  \"The tiger (Panthera tigris) is a large cat and a member of the genus Panthera native to Asia. It has a powerful, muscular body with a large head and paws, a long tail and orange fur with black, mostly vertical stripes.\",\n",
        "  \"Penguins are a group of flightless, semi-aquatic birds which live almost exclusively in the Southern Hemisphere. They have highly adapted for life in the ocean: flippers instead of wings, streamlined bodies for swimming, and counter-shaded dark and white plumage.\",\n",
        "  \"A honey bee (also spelled honeybee) is a eusocial flying insect from the genus Apis of the largest bee family, Apidae. All honey bees are nectarivorous pollinators native to mainland Afro-Eurasia, but human migrations since the Age of Discovery introduced multiple subspecies of the western honey bee into the New World and Australia, resulting in the current cosmopolitan distribution of honey bees in all continents except Antarctica.\",\n",
        "  \"The cheetah (Acinonyx jubatus) is a lightly built, spotted cat characterised by a small rounded head, a short snout, black tear-like facial streaks, a deep chest, long thin legs and a long tail. Its slender, canine-like form is highly adapted for speed, contrasting sharply with other large felids.\",\n",
        "  \"Owls are birds from the order Strigiformes, which includes over 200 species of mostly solitary and nocturnal birds of prey typified by an upright stance, a large broad head, binocular vision, binaural hearing, sharp talons and feathers adapted for silent flight.\",\n",
        "  \"The gray wolf or grey wolf (Canis lupus) is a large canine native to wilderness and remote areas of Eurasia and North America. Adult wolves measure 105-160 cm (41-63 in) in length and 80-85 cm (31-33 in) at shoulder height.\",\n",
        "]\n",
        "\n",
        "print(f\"Got {len(documents)} documents\")\n",
        "for i, doc in enumerate(documents, 1):\n",
        "    print(f\"{i}. {doc}\")\n"
      ]
    },
    {
      "cell_type": "code",
      "execution_count": 4,
      "metadata": {},
      "outputs": [
        {
          "data": {
            "application/vnd.jupyter.widget-view+json": {
              "model_id": "7fced25d605c416a82e9b0cb14709dab",
              "version_major": 2,
              "version_minor": 0
            },
            "text/plain": [
              "Batches:   0%|          | 0/1 [00:00<?, ?it/s]"
            ]
          },
          "metadata": {},
          "output_type": "display_data"
        },
        {
          "name": "stdout",
          "output_type": "stream",
          "text": [
            "Indexed 8 docs\n"
          ]
        }
      ],
      "source": [
        "engine = SearchEngine(model_name=\"sentence-transformers/all-MiniLM-L6-v2\", collection_name=\"demo\")\n",
        "engine.add_documents(documents)\n",
        "print(f\"Indexed {len(documents)} docs\")\n"
      ]
    },
    {
      "cell_type": "code",
      "execution_count": 5,
      "metadata": {},
      "outputs": [
        {
          "name": "stdout",
          "output_type": "stream",
          "text": [
            "\n",
            "Query: What are the different species of elephants?\n",
            "1. [0.636] Elephants are the largest living terrestrial animals. Three ...\n",
            "2. [0.426] Owls are birds from the order Strigiformes, which includes o...\n",
            "3. [0.333] The tiger (Panthera tigris) is a large cat and a member of t...\n",
            "\n",
            "Query: What adaptations help owls hunt at night?\n",
            "1. [0.643] Owls are birds from the order Strigiformes, which includes o...\n",
            "2. [0.288] Penguins are a group of flightless, semi-aquatic birds which...\n",
            "3. [0.211] The gray wolf or grey wolf (Canis lupus) is a large canine n...\n",
            "\n",
            "Query: Where do tigers live and what do they look like?\n",
            "1. [0.614] The tiger (Panthera tigris) is a large cat and a member of t...\n",
            "2. [0.378] The gray wolf or grey wolf (Canis lupus) is a large canine n...\n",
            "3. [0.351] Elephants are the largest living terrestrial animals. Three ...\n"
          ]
        }
      ],
      "source": [
        "queries = [\n",
        "    \"What are the different species of elephants?\",\n",
        "    \"What adaptations help owls hunt at night?\",\n",
        "    \"Where do tigers live and what do they look like?\",\n",
        "]\n",
        "\n",
        "for query in queries:\n",
        "    print(f\"\\nQuery: {query}\")\n",
        "    results = engine.search(query, top_k=3)\n",
        "    for i, res in enumerate(results, 1):\n",
        "        print(f\"{i}. [{res['score']:.3f}] {res['text'][:60]}...\")\n"
      ]
    },
    {
      "cell_type": "markdown",
      "metadata": {},
      "source": [
        "## Evaluation on CoSQA\n",
        "\n",
        "Now testing on the real dataset. CoSQA has code search queries where we need to find the right function from natural language descriptions.\n",
        "\n",
        "I'm tracking three metrics - Recall@10 (did we find the right code?), MRR@10 (how high did we rank it?), and NDCG@10 (overall ranking quality).\n"
      ]
    },
    {
      "cell_type": "code",
      "execution_count": 6,
      "metadata": {},
      "outputs": [
        {
          "name": "stdout",
          "output_type": "stream",
          "text": [
            "Dataset loaded:\n",
            "Corpus: 20604 code snippets\n",
            "Queries: 20604 total\n",
            "Test queries: 500\n"
          ]
        }
      ],
      "source": [
        "corpus, queries_dict, qrels = load_cosqa_eval()\n",
        "\n",
        "print(f\"Dataset loaded:\")\n",
        "print(f\"Corpus: {len(corpus)} code snippets\")\n",
        "print(f\"Queries: {len(queries_dict)} total\")\n",
        "print(f\"Test queries: {len(qrels)}\")\n"
      ]
    },
    {
      "cell_type": "code",
      "execution_count": 7,
      "metadata": {},
      "outputs": [
        {
          "name": "stdout",
          "output_type": "stream",
          "text": [
            "Evaluating baseline model...\n"
          ]
        },
        {
          "data": {
            "application/vnd.jupyter.widget-view+json": {
              "model_id": "0adf6d69dc104b5b96c350583d8203b6",
              "version_major": 2,
              "version_minor": 0
            },
            "text/plain": [
              "Batches:   0%|          | 0/644 [00:00<?, ?it/s]"
            ]
          },
          "metadata": {},
          "output_type": "display_data"
        },
        {
          "name": "stderr",
          "output_type": "stream",
          "text": [
            "100%|██████████| 500/500 [00:27<00:00, 18.28it/s]\n"
          ]
        },
        {
          "name": "stdout",
          "output_type": "stream",
          "text": [
            "Recall@10: 0.5180\n",
            "MRR@10: 0.2435\n",
            "NDCG@10: 0.3078\n"
          ]
        }
      ],
      "source": [
        "from config import EVAL_K\n",
        "print(\"Evaluating baseline model...\")\n",
        "baseline_metrics = evaluate_model(\"sentence-transformers/all-MiniLM-L6-v2\", k=EVAL_K)\n",
        "\n",
        "with open(\"baseline_results.json\", \"w\") as f:\n",
        "    json.dump(baseline_metrics, f, indent=2)\n"
      ]
    },
    {
      "cell_type": "markdown",
      "metadata": {},
      "source": [
        "## Fine-tuning\n",
        "\n",
        "Time to make the model better at code search. Using cross-entropy loss with a neat trick called in-batch negatives - instead of manually creating negative examples, we just use the other code snippets in the same batch.\n"
      ]
    },
    {
      "cell_type": "code",
      "execution_count": 8,
      "metadata": {},
      "outputs": [
        {
          "name": "stderr",
          "output_type": "stream",
          "text": [
            "Loading training data: 100%|██████████| 19604/19604 [00:00<00:00, 36742.06it/s]\n",
            "Loading validation data: 100%|██████████| 500/500 [00:00<00:00, 20508.64it/s]\n",
            "💡 Tip: For seamless cloud uploads and versioning, try installing [litmodels](https://pypi.org/project/litmodels/) to enable LitModelCheckpoint, which syncs automatically with the Lightning model registry.\n",
            "GPU available: True (cuda), used: True\n",
            "TPU available: False, using: 0 TPU cores\n",
            "HPU available: False, using: 0 HPUs\n",
            "You are using a CUDA device ('NVIDIA GeForce RTX 3070') that has Tensor Cores. To properly utilize them, you should set `torch.set_float32_matmul_precision('medium' | 'high')` which will trade-off precision for performance. For more details, read https://pytorch.org/docs/stable/generated/torch.set_float32_matmul_precision.html#torch.set_float32_matmul_precision\n",
            "LOCAL_RANK: 0 - CUDA_VISIBLE_DEVICES: [0]\n",
            "\n",
            "  | Name  | Type                | Params | Mode \n",
            "------------------------------------------------------\n",
            "0 | model | SentenceTransformer | 22.7 M | train\n",
            "------------------------------------------------------\n",
            "13.8 M    Trainable params\n",
            "8.9 M     Non-trainable params\n",
            "22.7 M    Total params\n",
            "90.853    Total estimated model params size (MB)\n",
            "4         Modules in train mode\n",
            "120       Modules in eval mode\n"
          ]
        },
        {
          "data": {
            "application/vnd.jupyter.widget-view+json": {
              "model_id": "f8662b2b38fd4f8285438aa8145f539b",
              "version_major": 2,
              "version_minor": 0
            },
            "text/plain": [
              "Sanity Checking: |          | 0/? [00:00<?, ?it/s]"
            ]
          },
          "metadata": {},
          "output_type": "display_data"
        },
        {
          "data": {
            "application/vnd.jupyter.widget-view+json": {
              "model_id": "a009663a71c04b3f9517e8577f73007e",
              "version_major": 2,
              "version_minor": 0
            },
            "text/plain": [
              "Training: |          | 0/? [00:00<?, ?it/s]"
            ]
          },
          "metadata": {},
          "output_type": "display_data"
        },
        {
          "data": {
            "application/vnd.jupyter.widget-view+json": {
              "model_id": "7e486db153c5448ca525fb8fa90b1fca",
              "version_major": 2,
              "version_minor": 0
            },
            "text/plain": [
              "Validation: |          | 0/? [00:00<?, ?it/s]"
            ]
          },
          "metadata": {},
          "output_type": "display_data"
        },
        {
          "data": {
            "application/vnd.jupyter.widget-view+json": {
              "model_id": "64592550c0144289b74411f1e73945fb",
              "version_major": 2,
              "version_minor": 0
            },
            "text/plain": [
              "Validation: |          | 0/? [00:00<?, ?it/s]"
            ]
          },
          "metadata": {},
          "output_type": "display_data"
        },
        {
          "data": {
            "application/vnd.jupyter.widget-view+json": {
              "model_id": "2c15823896734a4b8a75148fbbcf6fee",
              "version_major": 2,
              "version_minor": 0
            },
            "text/plain": [
              "Validation: |          | 0/? [00:00<?, ?it/s]"
            ]
          },
          "metadata": {},
          "output_type": "display_data"
        },
        {
          "data": {
            "application/vnd.jupyter.widget-view+json": {
              "model_id": "23090987d64448418726faedcf973aa8",
              "version_major": 2,
              "version_minor": 0
            },
            "text/plain": [
              "Validation: |          | 0/? [00:00<?, ?it/s]"
            ]
          },
          "metadata": {},
          "output_type": "display_data"
        },
        {
          "data": {
            "application/vnd.jupyter.widget-view+json": {
              "model_id": "87a5362968c34520890b0bfec5a00195",
              "version_major": 2,
              "version_minor": 0
            },
            "text/plain": [
              "Validation: |          | 0/? [00:00<?, ?it/s]"
            ]
          },
          "metadata": {},
          "output_type": "display_data"
        },
        {
          "data": {
            "application/vnd.jupyter.widget-view+json": {
              "model_id": "e90ae2f2130948cc8b098bd3ba582323",
              "version_major": 2,
              "version_minor": 0
            },
            "text/plain": [
              "Validation: |          | 0/? [00:00<?, ?it/s]"
            ]
          },
          "metadata": {},
          "output_type": "display_data"
        },
        {
          "data": {
            "application/vnd.jupyter.widget-view+json": {
              "model_id": "2e1f393848fe4b4d981f7d8fe2092762",
              "version_major": 2,
              "version_minor": 0
            },
            "text/plain": [
              "Validation: |          | 0/? [00:00<?, ?it/s]"
            ]
          },
          "metadata": {},
          "output_type": "display_data"
        },
        {
          "data": {
            "application/vnd.jupyter.widget-view+json": {
              "model_id": "dc00de3155884a22a14ca637e9a4c16f",
              "version_major": 2,
              "version_minor": 0
            },
            "text/plain": [
              "Validation: |          | 0/? [00:00<?, ?it/s]"
            ]
          },
          "metadata": {},
          "output_type": "display_data"
        },
        {
          "data": {
            "application/vnd.jupyter.widget-view+json": {
              "model_id": "fdc13b7c48114586a32e891a8d34fc65",
              "version_major": 2,
              "version_minor": 0
            },
            "text/plain": [
              "Validation: |          | 0/? [00:00<?, ?it/s]"
            ]
          },
          "metadata": {},
          "output_type": "display_data"
        },
        {
          "data": {
            "application/vnd.jupyter.widget-view+json": {
              "model_id": "af48909d758b465c99171ab013b5c125",
              "version_major": 2,
              "version_minor": 0
            },
            "text/plain": [
              "Validation: |          | 0/? [00:00<?, ?it/s]"
            ]
          },
          "metadata": {},
          "output_type": "display_data"
        },
        {
          "name": "stderr",
          "output_type": "stream",
          "text": [
            "`Trainer.fit` stopped: `max_epochs=10` reached.\n"
          ]
        },
        {
          "name": "stdout",
          "output_type": "stream",
          "text": [
            "\n",
            "Training complete:\n",
            "Initial loss: 0.0699\n",
            "Final loss: 0.0317\n",
            "Reduction: 54.6%\n"
          ]
        },
        {
          "data": {
            "image/png": "[encoded data removed]",
            "text/plain": [
              "<Figure size 800x500 with 1 Axes>"
            ]
          },
          "metadata": {},
          "output_type": "display_data"
        }
      ],
      "source": [
        "train_losses, val_losses = train()\n",
        "\n",
        "print(\"\\nTraining complete:\")\n",
        "print(f\"Initial loss: {train_losses[0]:.4f}\")\n",
        "print(f\"Final loss: {train_losses[-1]:.4f}\")\n",
        "print(f\"Reduction: {((train_losses[0] - train_losses[-1]) / train_losses[0] * 100):.1f}%\")\n"
      ]
    },
    {
      "cell_type": "markdown",
      "metadata": {},
      "source": [
        "## Results\n"
      ]
    },
    {
      "cell_type": "code",
      "execution_count": 9,
      "metadata": {},
      "outputs": [
        {
          "name": "stdout",
          "output_type": "stream",
          "text": [
            "Evaluating fine-tuned model...\n"
          ]
        },
        {
          "data": {
            "application/vnd.jupyter.widget-view+json": {
              "model_id": "ecd0c031bc704604b7568d31fb50b000",
              "version_major": 2,
              "version_minor": 0
            },
            "text/plain": [
              "Batches:   0%|          | 0/644 [00:00<?, ?it/s]"
            ]
          },
          "metadata": {},
          "output_type": "display_data"
        },
        {
          "name": "stderr",
          "output_type": "stream",
          "text": [
            "100%|██████████| 500/500 [00:28<00:00, 17.65it/s]"
          ]
        },
        {
          "name": "stdout",
          "output_type": "stream",
          "text": [
            "Recall@10: 0.5680\n",
            "MRR@10: 0.2436\n",
            "NDCG@10: 0.3190\n",
            "\n",
            "Comparison:\n",
            "Recall@10: 0.5180 -> 0.5680 (+9.7%)\n",
            "MRR@10: 0.2435 -> 0.2436 (+0.1%)\n",
            "NDCG@10: 0.3078 -> 0.3190 (+3.6%)\n"
          ]
        },
        {
          "name": "stderr",
          "output_type": "stream",
          "text": [
            "\n"
          ]
        }
      ],
      "source": [
        "from config import OUTPUT_DIR\n",
        "\n",
        "print(\"Evaluating fine-tuned model...\")\n",
        "finetuned_metrics = evaluate_model(OUTPUT_DIR, k=EVAL_K)\n",
        "\n",
        "print(\"\\nComparison:\")\n",
        "for metric in baseline_metrics:\n",
        "    b = baseline_metrics[metric]\n",
        "    f = finetuned_metrics[metric]\n",
        "    improvement = ((f - b) / b * 100) if b > 0 else 0\n",
        "    print(f\"{metric}: {b:.4f} -> {f:.4f} ({improvement:+.1f}%)\")\n"
      ]
    },
    {
      "cell_type": "markdown",
      "metadata": {},
      "source": [
        "## Bonus Experiments\n",
        "\n",
        "Tried two extra things:\n",
        "\n",
        "**Function names vs whole bodies** - Does indexing just the function name work as well as the whole function body?\n",
        "\n",
        "**Distance metrics** - Cosine similarity is standard, but what about others\n"
      ]
    },
    {
      "cell_type": "code",
      "execution_count": 10,
      "metadata": {},
      "outputs": [
        {
          "data": {
            "application/vnd.jupyter.widget-view+json": {
              "model_id": "bb4402546e0c40188e7a037237290814",
              "version_major": 2,
              "version_minor": 0
            },
            "text/plain": [
              "Batches:   0%|          | 0/644 [00:00<?, ?it/s]"
            ]
          },
          "metadata": {},
          "output_type": "display_data"
        },
        {
          "name": "stderr",
          "output_type": "stream",
          "text": [
            "Function names eval: 100%|██████████| 500/500 [00:26<00:00, 18.55it/s]\n"
          ]
        },
        {
          "name": "stdout",
          "output_type": "stream",
          "text": [
            "Function names experiment:\n",
            "Recall@10: 0.2780\n",
            "MRR@10: 0.1237\n",
            "NDCG@10: 0.1593\n",
            "\n",
            "Testing COSINE distance...\n"
          ]
        },
        {
          "data": {
            "application/vnd.jupyter.widget-view+json": {
              "model_id": "9297fe6528d0405b96b869305dc65259",
              "version_major": 2,
              "version_minor": 0
            },
            "text/plain": [
              "Batches:   0%|          | 0/644 [00:00<?, ?it/s]"
            ]
          },
          "metadata": {},
          "output_type": "display_data"
        },
        {
          "name": "stderr",
          "output_type": "stream",
          "text": [
            "COSINE eval: 100%|██████████| 500/500 [00:26<00:00, 18.82it/s]\n"
          ]
        },
        {
          "name": "stdout",
          "output_type": "stream",
          "text": [
            "COSINE results:\n",
            "Recall@10: 0.5180\n",
            "MRR@10: 0.2435\n",
            "NDCG@10: 0.3078\n",
            "\n",
            "Testing DOT distance...\n"
          ]
        },
        {
          "data": {
            "application/vnd.jupyter.widget-view+json": {
              "model_id": "b8d45d9bdcc14539bc0f188b6f3c521f",
              "version_major": 2,
              "version_minor": 0
            },
            "text/plain": [
              "Batches:   0%|          | 0/644 [00:00<?, ?it/s]"
            ]
          },
          "metadata": {},
          "output_type": "display_data"
        },
        {
          "name": "stderr",
          "output_type": "stream",
          "text": [
            "DOT eval: 100%|██████████| 500/500 [00:19<00:00, 25.25it/s]\n"
          ]
        },
        {
          "name": "stdout",
          "output_type": "stream",
          "text": [
            "DOT results:\n",
            "Recall@10: 0.5160\n",
            "MRR@10: 0.2422\n",
            "NDCG@10: 0.3063\n",
            "\n",
            "Testing EUCLID distance...\n"
          ]
        },
        {
          "data": {
            "application/vnd.jupyter.widget-view+json": {
              "model_id": "4f5dcfbcb31d45b1a5b97af2fee32da2",
              "version_major": 2,
              "version_minor": 0
            },
            "text/plain": [
              "Batches:   0%|          | 0/644 [00:00<?, ?it/s]"
            ]
          },
          "metadata": {},
          "output_type": "display_data"
        },
        {
          "name": "stderr",
          "output_type": "stream",
          "text": [
            "EUCLID eval: 100%|██████████| 500/500 [00:33<00:00, 14.95it/s]"
          ]
        },
        {
          "name": "stdout",
          "output_type": "stream",
          "text": [
            "EUCLID results:\n",
            "Recall@10: 0.5260\n",
            "MRR@10: 0.2672\n",
            "NDCG@10: 0.3277\n"
          ]
        },
        {
          "name": "stderr",
          "output_type": "stream",
          "text": [
            "\n"
          ]
        }
      ],
      "source": [
        "from scripts.bonus_experiments import evaluate_with_function_names, evaluate_with_distance_metrics\n",
        "func_results = evaluate_with_function_names()\n",
        "dist_results = evaluate_with_distance_metrics()\n"
      ]
    },
    {
      "cell_type": "markdown",
      "metadata": {},
      "source": [
        "## Wrapping Up\n",
        "\n",
        "Built a working code search engine that takes natural language queries and finds relevant code snippets. The baseline model performs reasonably well, and fine-tuning on the CoSQA training data - using triplet margin loss / cross-entropy loss with in-batch negatives - makes it noticeably better at the task.\n",
        "\n",
        "The in-batch negatives approach works effectively - it provides contrastive learning “for free” since each batch naturally includes both positive and negative examples.\n",
        "\n",
        "In bonus experiments, using only function names led to clearly worse results compared to full function bodies, while Euclidean distance achieved the best overall performance among the tested similarity metrics.\n"
      ]
    }
  ],
  "metadata": {
    "kernelspec": {
      "display_name": ".venv",
      "language": "python",
      "name": "python3"
    },
    "language_info": {
      "codemirror_mode": {
        "name": "ipython",
        "version": 3
      },
      "file_extension": ".py",
      "mimetype": "text/x-python",
      "name": "python",
      "nbconvert_exporter": "python",
      "pygments_lexer": "ipython3",
      "version": "3.12.0"
    }
  },
  "nbformat": 4,
  "nbformat_minor": 2
}
